{
 "cells": [
  {
   "cell_type": "code",
   "execution_count": 1,
   "metadata": {},
   "outputs": [],
   "source": [
    "import numpy as np\n",
    "import pandas as pd\n",
    "from bs4 import BeautifulSoup as bs\n",
    "from fake_useragent import UserAgent\n",
    "import requests, time, re, math, openpyxl, datetime, os, shutil, psutil, platform, pyautogui, subprocess, webbrowser\n",
    "from tqdm import *\n",
    "from selenium import webdriver\n",
    "from selenium.webdriver.common.keys import Keys\n",
    "import urllib.parse\n",
    "import csv\n",
    "import random\n",
    "href_list = []"
   ]
  },
  {
   "cell_type": "code",
   "execution_count": 2,
   "metadata": {},
   "outputs": [
    {
     "name": "stdout",
     "output_type": "stream",
     "text": [
      "['互联网银行', '互联网券商', '互联网保险', '互联网基金销售', '互联网资产管理', '互联网小额商业贷款', '互联网消费金融', 'P2P', '金融信息服务', '众筹', '数字货币', '金融基础设施', '支付', '信用评估及征信', 'A轮', 'C轮', '战略投资', '天使轮', 'Pre-A轮', 'A+轮', 'B轮', 'B+轮', 'D轮', '新三板', '种子轮', '并购', '新四板', 'E轮', '定增', '上市公司', '港股', 'E轮及以后', 'F轮-上市前', '未融资', 'Pre-B轮', 'Pre-IPO', '未知轮次']\n",
      "['北京', '上海', '福建', '广东', '湖北', '江苏', '四川', '山东', '浙江']\n",
      "['北京', '北京', '北京', '北京', '北京', '北京', '北京', '北京', '北京', '北京', '北京', '北京', '北京', '北京', '北京', '北京', '北京', '北京', '北京', '北京', '北京', '北京', '北京', '北京', '北京', '北京', '北京', '北京', '北京', '北京', '北京', '北京', '北京', '北京', '北京', '北京', '北京', '北京', '北京', '北京', '北京', '北京', '北京', '北京', '北京', '北京', '北京', '北京', '北京', '北京', '北京', '北京', '北京', '北京', '北京', '北京', '北京', '北京', '北京', '北京', '北京', '北京', '北京', '北京', '北京', '北京', '北京', '北京', '北京', '北京', '北京', '北京', '北京', '北京', '北京', '北京', '北京', '北京', '北京', '北京', '北京', '北京', '北京', '北京', '北京', '北京', '北京', '北京', '北京', '北京', '北京', '北京', '北京', '北京', '北京', '北京', '北京', '北京', '北京', '北京', '北京', '北京', '北京', '北京', '北京', '北京', '北京', '北京', '北京', '北京', '北京', '北京', '北京', '北京', '北京', '北京', '北京', '北京', '北京', '北京', '北京', '北京', '北京', '北京', '北京', '北京', '北京', '北京', '上海', '上海', '上海', '上海', '上海', '上海', '上海', '上海', '上海', '上海', '上海', '上海', '上海', '上海', '上海', '上海', '上海', '上海', '上海', '上海', '上海', '上海', '上海', '上海', '上海', '上海', '上海', '上海', '上海', '上海', '上海', '上海', '上海', '上海', '上海', '上海', '上海', '上海', '上海', '上海', '上海', '上海', '上海', '上海', '上海', '上海', '上海', '上海', '上海', '上海', '上海', '上海', '上海', '上海', '上海', '上海', '上海', '上海', '上海', '上海', '上海', '上海', '上海', '上海', '上海', '上海', '上海', '上海', '上海', '上海', '上海', '上海', '上海', '上海', '上海', '上海', '上海', '上海', '上海', '上海', '上海', '上海', '上海', '上海', '上海', '上海', '上海', '上海', '上海', '上海', '上海', '上海', '上海', '上海', '上海', '上海', '上海', '上海', '上海', '上海', '上海', '上海', '上海', '上海', '上海', '上海', '上海', '福建', '福建', '福建', '福建', '福建', '福建', '福建', '福建', '福建', '福建', '福建', '福建', '福建', '福建', '福建', '福建', '福建', '福建', '福建', '福建', '福建', '福建', '福建', '福建', '福建', '福建', '福建', '福建', '福建', '福建', '福建', '福建', '福建', '广东', '广东', '广东', '广东', '广东', '广东', '广东', '广东', '广东', '广东', '广东', '广东', '广东', '广东', '广东', '广东', '广东', '广东', '广东', '广东', '广东', '广东', '广东', '广东', '广东', '广东', '广东', '广东', '广东', '广东', '广东', '广东', '广东', '广东', '广东', '广东', '广东', '广东', '广东', '广东', '广东', '广东', '广东', '广东', '广东', '广东', '广东', '广东', '广东', '广东', '广东', '广东', '广东', '广东', '广东', '广东', '广东', '广东', '广东', '广东', '广东', '广东', '广东', '广东', '广东', '广东', '广东', '广东', '广东', '广东', '广东', '广东', '广东', '广东', '广东', '广东', '广东', '广东', '广东', '广东', '广东', '广东', '广东', '广东', '广东', '广东', '广东', '广东', '广东', '广东', '广东', '广东', '广东', '广东', '广东', '广东', '广东', '广东', '广东', '广东', '广东', '广东', '广东', '广东', '广东', '广东', '广东', '广东', '广东', '广东', '广东', '广东', '广东', '广东', '湖北', '湖北', '湖北', '湖北', '湖北', '湖北', '湖北', '湖北', '湖北', '湖北', '湖北', '湖北', '湖北', '湖北', '湖北', '湖北', '湖北', '湖北', '湖北', '湖北', '湖北', '湖北', '湖北', '湖北', '湖北', '湖北', '湖北', '湖北', '湖北', '湖北', '江苏', '江苏', '江苏', '江苏', '江苏', '江苏', '江苏', '江苏', '江苏', '江苏', '江苏', '江苏', '江苏', '江苏', '江苏', '江苏', '江苏', '江苏', '江苏', '江苏', '江苏', '江苏', '江苏', '江苏', '江苏', '江苏', '江苏', '江苏', '江苏', '江苏', '江苏', '江苏', '江苏', '江苏', '江苏', '江苏', '江苏', '江苏', '江苏', '江苏', '江苏', '江苏', '江苏', '江苏', '江苏', '江苏', '江苏', '江苏', '江苏', '江苏', '江苏', '江苏', '江苏', '江苏', '江苏', '江苏', '四川', '四川', '四川', '四川', '四川', '四川', '四川', '四川', '四川', '四川', '四川', '四川', '四川', '四川', '四川', '四川', '四川', '四川', '四川', '四川', '四川', '四川', '四川', '四川', '四川', '四川', '四川', '四川', '四川', '四川', '四川', '四川', '四川', '四川', '四川', '四川', '四川', '四川', '四川', '四川', '四川', '山东', '山东', '山东', '山东', '山东', '山东', '山东', '山东', '山东', '山东', '山东', '山东', '山东', '山东', '山东', '山东', '山东', '山东', '山东', '山东', '山东', '山东', '山东', '山东', '山东', '山东', '山东', '山东', '山东', '浙江', '浙江', '浙江', '浙江', '浙江', '浙江', '浙江', '浙江', '浙江', '浙江', '浙江', '浙江', '浙江', '浙江', '浙江', '浙江', '浙江', '浙江', '浙江', '浙江', '浙江', '浙江', '浙江', '浙江', '浙江', '浙江', '浙江', '浙江', '浙江', '浙江', '浙江', '浙江', '浙江', '浙江', '浙江', '浙江', '浙江', '浙江', '浙江', '浙江', '浙江', '浙江', '浙江', '浙江', '浙江', '浙江', '浙江', '浙江', '浙江', '浙江', '浙江', '浙江', '浙江', '浙江', '浙江', '浙江', '浙江', '浙江', '浙江', '浙江', '浙江', '浙江', '浙江', '浙江', '浙江', '浙江', '浙江', '浙江', '浙江', '浙江', '浙江', '浙江', '浙江', '浙江', '浙江', '浙江', '浙江', '浙江', '浙江', '浙江', '浙江', '浙江', '浙江', '']\n"
     ]
    }
   ],
   "source": [
    "with open('target.txt','r') as target:\n",
    "    targets = target.read().splitlines()\n",
    "print(targets)\n",
    "with open('location.txt','r') as location:\n",
    "    locations = location.read().splitlines()\n",
    "print(locations)\n",
    "with open('location_full.txt','r') as location_full:\n",
    "    location_fulls = location_full.read().splitlines()\n",
    "print(location_fulls)"
   ]
  },
  {
   "cell_type": "code",
   "execution_count": 3,
   "metadata": {},
   "outputs": [
    {
     "name": "stdout",
     "output_type": "stream",
     "text": [
      "['北京', '上海', '福建', '广东', '湖北', '江苏', '四川', '山东', '浙江']\n",
      "'北京':128, '上海':107, '福建':33, '广东':114, '湖北':30, '江苏':56, '四川':41, '山东':29, '浙江':83, "
     ]
    }
   ],
   "source": [
    "targets_new = []\n",
    "for target in targets:\n",
    "    targets_new.append(target.split('|'))\n",
    "with open('location.txt','r') as location:\n",
    "    locations = location.read().splitlines()\n",
    "print(locations) \n",
    "for i in locations:\n",
    "    print('\\''+ str(i) + '\\'' + ':' + str(location_fulls.count(i)) + ',', end = \" \")\n",
    "    "
   ]
  },
  {
   "cell_type": "code",
   "execution_count": 5,
   "metadata": {},
   "outputs": [],
   "source": [
    "class Fintech():\n",
    "    url = 'http://www.fintechdb.cn/'\n",
    "    \n",
    "    def __init__(self, username, password):\n",
    "        self.username = username\n",
    "        self.password = password\n",
    "        self.driver = self.log_in\n",
    "        \n",
    "    def log_in(self):\n",
    "        driver = webdriver.Chrome('D:\\BrowserDriver\\chromedriver')\n",
    "        driver.get(self.url)\n",
    "        time.sleep(1)\n",
    "        login_butten = driver.find_element_by_xpath('//*[@id=\"wa-head\"]/div/div[2]/a')\n",
    "        login_butten.click()\n",
    "        login_butten = driver.find_element_by_xpath('//*[@id=\"wa-login-phone\"]')\n",
    "        login_butten.send_keys(self.username)\n",
    "        login_butten = driver.find_element_by_xpath('//*[@id=\"wa-login-password\"]')\n",
    "        login_butten.send_keys(self.password,Keys.RETURN)\n",
    "        login_butten = driver.find_element_by_xpath('//*[@id=\"wa-lore\"]/li[1]/form/div[4]/button')\n",
    "        login_butten.click()\n",
    "        return driver\n",
    "    \n",
    "    def target(self, target_location):\n",
    "        tl = driver.find_element_by_link_text(target_location)\n",
    "        tl.click()\n",
    "        time.sleep(random.randint(2,3))\n",
    "        return driver\n",
    "        \n",
    "    def load_more(self):\n",
    "        for i in range(0,4):\n",
    "            try:\n",
    "                load_more = driver.find_element_by_xpath('//*[@id=\"home-load-more\"]')\n",
    "                load_more.click()\n",
    "            except:\n",
    "                pass\n",
    "            time.sleep(1)\n",
    "        time.sleep(10)    \n",
    "        return driver\n",
    "    \n",
    "    def page(self):\n",
    "        page_source = driver.page_source\n",
    "        page = bs(page_source,'lxml')\n",
    "        return page\n",
    "     \n",
    "    def updown(self,u):\n",
    "        updown1_box = driver.find_element_by_xpath('/html/body/div[1]/div[2]/div[2]/ul/li[3]/a')\n",
    "        updown2_box = driver.find_element_by_xpath('/html/body/div[1]/div[2]/div[2]/ul/li[4]/a ')\n",
    "        if u == 1:\n",
    "            updown1_box.click()\n",
    "        else:\n",
    "            updown2_box.click() \n",
    "        time.sleep(1)\n",
    "        return driver\n",
    "    \n",
    "    def order(self,o):\n",
    "        order1_box = driver.find_element_by_xpath('/html/body/div[1]/div[2]/div[2]/ul/li[1]/a')\n",
    "        order2_box = driver.find_element_by_xpath('/html/body/div[1]/div[2]/div[2]/ul/li[2]/a')\n",
    "        if o == 1:\n",
    "            order1_box.click()\n",
    "        else:\n",
    "            order2_box.click()\n",
    "        time.sleep(1)\n",
    "        return driver\n",
    "    \n",
    "    def write(self,page):\n",
    "        for url in page.find(\"div\",attrs={\"id\": \"company-list\"}).find_all(\"a\"):\n",
    "            href_list.append(url.get('href'))\n",
    "        print(len(set(href_list)), end = \" \")\n",
    "        time.sleep(1)\n",
    "    \n",
    "    def num(self):\n",
    "        num = driver.find_element_by_xpath('/html/body/div[1]/div[2]/div[2]/p/span[1]').text\n",
    "        num = re.findall(r'\\d+',num)\n",
    "        time.sleep(1)\n",
    "        return num\n",
    "    \n",
    "    def scrapy(self):\n",
    "        driver = fintech.load_more()\n",
    "        page = fintech.page()\n",
    "        fintech.write(page)\n",
    "    \n",
    "    def scrapy_update(self):\n",
    "        fintech.scrapy()\n",
    "        driver = fintech.updown(0)\n",
    "        fintech.scrapy()\n",
    "        driver = fintech.updown(1)\n",
    "        \n",
    "    def scrapy_update2(self):\n",
    "        fintech.scrapy()\n",
    "        driver = fintech.updown(0)\n",
    "        fintech.scrapy()\n",
    "        driver = fintech.order(0)\n",
    "        fintech.scrapy()\n",
    "        driver = fintech.updown(1)\n",
    "        fintech.scrapy()\n",
    "        driver = fintech.order(1)\n",
    "        \n",
    "    def time_range(self, start_time, end_time):\n",
    "        time_box = driver.find_element_by_xpath('//*[@id=\"fliterTimeStart\"]')\n",
    "        for i in range(1,11):\n",
    "            time_box.send_keys(Keys.BACKSPACE)\n",
    "        time_box.send_keys(start_time)\n",
    "        time_box = driver.find_element_by_xpath('//*[@id=\"fliterTimeEnd\"]')\n",
    "        for i in range(1,11):\n",
    "            time_box.send_keys(Keys.BACKSPACE)\n",
    "        time_box.send_keys(end_time)\n",
    "        return driver\n",
    "       \n",
    "    def adjust(self):\n",
    "        driver = fintech.order(0)\n",
    "        driver = fintech.order(1)\n",
    "        driver = fintech.updown(0)\n",
    "        driver = fintech.updown(1)\n",
    "        time.sleep(1)\n",
    "        return driver\n",
    "    "
   ]
  },
  {
   "cell_type": "code",
   "execution_count": 6,
   "metadata": {},
   "outputs": [],
   "source": [
    "fintech = Fintech('15184399376','123456')\n",
    "driver = fintech.log_in()"
   ]
  },
  {
   "cell_type": "code",
   "execution_count": 7,
   "metadata": {},
   "outputs": [
    {
     "name": "stdout",
     "output_type": "stream",
     "text": [
      "[0] [0] [2] 2 2 [3] 3 3 [18] 18 18 [68] 68 68 [178] 178 178 [395] 328 395 [2145] 471 471 584 584 734 744 894 1014 1065 1117 1147 1155 1187 1187 1264 1264 1294 1335 1422 1422 1452 1503 1608 1608 1702 1702 [3665] 1822 1822 1884 1884 1992 1992 2109 2109 2199 2199 2282 2312 2430 2430 2495 2495 2645 2788 2847 2847 [3665] [3665] [3665] [3665] [3665] [3667] 2849 2849 [3683] 2865 2865 [3699] 2881 2881 [3906] 3031 3088 [4048] 3208 3230 [4048] [4048] [4048] [4048] [4049] 3231 3231 [4054] 3236 3236 [4071] 3253 3253 [4124] 3306 3306 [4421] 3456 3603 [4653] 3753 3835 [4653] [4653] [4653] [4653] [4653] [4661] 3843 3843 [4672] 3854 3854 [4698] 3880 3880 [4974] 4030 4156 [5127] 4306 4309 [5127] [5127] [5127] [5127] [5129] 4311 4311 [5137] 4319 4319 [5142] 4324 4324 [5172] 4354 4354 [5544] 4363 4363 4381 4381 4403 4403 4464 4464 4614 4726 [5773] 4816 4906 [5773] [5773] [5773] [5773] [5774] 4907 4907 [5788] 4921 4921 [5842] 4975 4975 [5932] 5065 5065 [6548] 5098 5098 5147 5147 5203 5203 5333 5333 5483 5633 5655 5675 [7262] 5825 5975 6012 6062 6212 6257 6337 6337 "
     ]
    }
   ],
   "source": [
    "number_unique = 0\n",
    "date_start = str\n",
    "date_end = str\n",
    "for lo in locations[3:]: \n",
    "    driver = fintech.target(str(lo))\n",
    "    for i in range(1970,2020,5):\n",
    "        driver = fintech.time_range(i,i+5)\n",
    "        driver = fintech.adjust()\n",
    "        number = int(fintech.num()[0])\n",
    "        number_unique += number\n",
    "        print('['+ str(number_unique) + ']', end = \" \")\n",
    "        if number == 0:\n",
    "            continue\n",
    "        elif number <= 300:\n",
    "            fintech.scrapy_update()\n",
    "        else:\n",
    "            for y in range(i,i+5):\n",
    "                driver = fintech.time_range(y,y+1)\n",
    "                time.sleep(1)\n",
    "                driver = fintech.adjust()\n",
    "                number = int(fintech.num()[0])\n",
    "                if number == 0:\n",
    "                    pass\n",
    "                elif number <= 300:\n",
    "                    fintech.scrapy_update()\n",
    "                elif number <= 450:\n",
    "                    fintech.scrapy_update2()\n",
    "                else:\n",
    "                    for m1 in range(1,8):\n",
    "                        date_start = str(y)+\"-0\"+str(m1)\n",
    "                        date_end = str(y)+\"-0\"+str(m1+1)\n",
    "                        driver = fintech.time_range(date_start,date_end)\n",
    "                        driver = fintech.adjust()\n",
    "                        number = int(fintech.num()[0])\n",
    "                        if number == 0:\n",
    "                            pass\n",
    "                        elif number <= 300:\n",
    "                            fintech.scrapy_update()\n",
    "                        else:\n",
    "                            fintech.scrapy_update2()  \n",
    "                    for m2 in range(10,11):\n",
    "                        date_start = str(y)+\"-\"+str(m2)\n",
    "                        date_end = str(y)+\"-\"+str(m2+1)\n",
    "                        driver = fintech.time_range(date_start,date_end)\n",
    "                        driver = fintech.adjust()\n",
    "                        number = int(fintech.num()[0])\n",
    "                        if number == 0:\n",
    "                            pass\n",
    "                        elif number <= 300:\n",
    "                            fintech.scrapy_update()\n",
    "                        else:\n",
    "                            fintech.scrapy_update2()             \n",
    "    driver = fintech.target(str(lo))"
   ]
  },
  {
   "cell_type": "code",
   "execution_count": 8,
   "metadata": {},
   "outputs": [
    {
     "name": "stdout",
     "output_type": "stream",
     "text": [
      "文件写入:成功!\n"
     ]
    }
   ],
   "source": [
    "with open('results_other_.csv','w') as fff:\n",
    "    csv_output = csv.writer(fff)\n",
    "    csv_output.writerow(href_list)\n",
    "    print('文件写入:成功!')"
   ]
  },
  {
   "cell_type": "code",
   "execution_count": null,
   "metadata": {},
   "outputs": [],
   "source": []
  },
  {
   "cell_type": "code",
   "execution_count": null,
   "metadata": {},
   "outputs": [],
   "source": []
  }
 ],
 "metadata": {
  "kernelspec": {
   "display_name": "Python 3",
   "language": "python",
   "name": "python3"
  },
  "language_info": {
   "codemirror_mode": {
    "name": "ipython",
    "version": 3
   },
   "file_extension": ".py",
   "mimetype": "text/x-python",
   "name": "python",
   "nbconvert_exporter": "python",
   "pygments_lexer": "ipython3",
   "version": "3.7.1"
  }
 },
 "nbformat": 4,
 "nbformat_minor": 2
}
